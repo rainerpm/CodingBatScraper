{
  "nbformat": 4,
  "nbformat_minor": 0,
  "metadata": {
    "colab": {
      "name": "NOAAProject.ipynb",
      "provenance": [],
      "collapsed_sections": [],
      "authorship_tag": "ABX9TyOiMh60+lCjBZ/FIZ/F0s13",
      "include_colab_link": true
    },
    "kernelspec": {
      "name": "python3",
      "display_name": "Python 3"
    },
    "language_info": {
      "name": "python"
    }
  },
  "cells": [
    {
      "cell_type": "markdown",
      "metadata": {
        "id": "view-in-github",
        "colab_type": "text"
      },
      "source": [
        "<a href=\"https://colab.research.google.com/github/rainerpm/CodingBatScraper/blob/main/NOAAProject.ipynb\" target=\"_parent\"><img src=\"https://colab.research.google.com/assets/colab-badge.svg\" alt=\"Open In Colab\"/></a>"
      ]
    },
    {
      "cell_type": "code",
      "metadata": {
        "colab": {
          "base_uri": "https://localhost:8080/"
        },
        "id": "S3PKWjw2vmNZ",
        "outputId": "af93b3ac-1e5d-46c3-abb8-74fdc8cc2452"
      },
      "source": [
        "# started with code from https://towardsdatascience.com/getting-weather-data-in-3-easy-steps-8dc10cc5c859\n",
        "\n",
        "import requests  #needed to make web requests\n",
        "import pandas as pd #store the data we get as a dataframe\n",
        "import json #convert the response as a strcuctured json\n",
        "import numpy as np #mathematical operations on lists\n",
        "from datetime import datetime  #parse the datetimes we get from NOAA\n",
        "\n",
        "# with open('token.txt', 'r') as fp:\n",
        "#   token = fp.read().strip()\n",
        "token = \"XQilQLcTnIxYLmIXmRpHjOnOdszCShQT\"\n",
        "\n",
        "#station_id = \"GHCND:USW00023129\"  # from example at https://towardsdatascience.com/getting-weather-data-in-3-easy-steps-8dc10cc5c859\n",
        "#station_id = \"GHCND:USC00410433\"  # Austin Great Hills Trail (DOESN'T WORK)\n",
        "station_id = \"GHCND:USW00013958\"   # Camp Mabry https://www.ncdc.noaa.gov/cdo-web/datasets/GHCND/stations/GHCND:USW00013958/detail\n",
        "limit = 1000  # how many records\n",
        "\n",
        "#initialize lists to store data\n",
        "tempDates = []\n",
        "windDates = []\n",
        "tempValues = []\n",
        "windValues = []\n",
        "\n",
        "\n",
        "#for each year from 2015-2019 ...\n",
        "for year in range(2015, 2020):\n",
        "    year = str(year)\n",
        "    print('working on year '+year)\n",
        "    \n",
        "\n",
        "    #make the api call\n",
        "    datatypeid1 = \"TMAX\"  # Maximum Temperature\n",
        "    datatypeid2 = \"AWND\" # Average wind speed\n",
        "    r = requests.get(f'https://www.ncdc.noaa.gov/cdo-web/api/v2/data?datasetid=GHCND&datatypeid={datatypeid1}&datatypeid={datatypeid2}&limit={limit}&stationid={station_id}&startdate='+year+'-01-01&enddate='+year+'-12-31', headers={'token':token})\n",
        "    #print(json.dumps(r.json(), indent=2))\n",
        "    #load the api response as a json\n",
        "    d = json.loads(r.text)\n",
        "    #get all items in the response \n",
        "    tmaxResults = [item for item in d['results'] if item['datatype']=='TMAX']\n",
        "    windResults = [item for item in d['results'] if item['datatype']=='AWND']\n",
        "    #get the date field \n",
        "    tempDates += [item['date'] for item in tmaxResults]\n",
        "    windDates += [item['date'] for item in windResults]\n",
        "    #get the actual average temperature from all average temperature readings\n",
        "    tempValues += [item['value'] for item in tmaxResults]\n",
        "    windValues += [item['value'] for item in windResults]\n",
        "\n",
        "\n",
        "#initialize dataframe\n",
        "df_temp = pd.DataFrame()\n",
        "df_wind = pd.DataFrame()\n",
        "\n",
        "#populate date and average temperature fields (cast string date to datetime and convert temperature from tenths of Celsius to Fahrenheit)\n",
        "df_temp['date'] = [datetime.strptime(d, \"%Y-%m-%dT%H:%M:%S\") for d in tempDates]\n",
        "df_temp['avgTemp'] = [float(v)/10.0*1.8 + 32 for v in tempValues]\n",
        "\n",
        "df_wind['date'] = [datetime.strptime(d, \"%Y-%m-%dT%H:%M:%S\") for d in windDates]\n",
        "df_wind['avgWind'] = windValues\n",
        "\n",
        "\n"
      ],
      "execution_count": 9,
      "outputs": [
        {
          "output_type": "stream",
          "text": [
            "working on year 2015\n",
            "working on year 2016\n",
            "working on year 2017\n",
            "working on year 2018\n",
            "working on year 2019\n"
          ],
          "name": "stdout"
        }
      ]
    },
    {
      "cell_type": "code",
      "metadata": {
        "colab": {
          "base_uri": "https://localhost:8080/"
        },
        "id": "PINqF_fEF7MS",
        "outputId": "3c90991a-43a6-419d-d974-41bf71aa2f53"
      },
      "source": [
        "# Datatypes\n",
        "params = {\n",
        "    'startdate' : '2015-01-01',\n",
        "    'enddate' : '2019-12-31'\n",
        "}\n",
        "r = requests.get('https://www.ncdc.noaa.gov/cdo-web/api/v2/datatypes', params=params, headers={'token':token})\n",
        "d = json.loads(r.text)\n",
        "print(d)"
      ],
      "execution_count": null,
      "outputs": [
        {
          "output_type": "stream",
          "text": [
            "{'metadata': {'resultset': {'offset': 1, 'count': 357, 'limit': 25}}, 'results': [{'mindate': '1991-06-05', 'maxdate': '2021-07-11', 'name': 'Base Data', 'datacoverage': 0.95, 'id': 'ALL'}, {'mindate': '1982-01-01', 'maxdate': '2021-07-11', 'name': 'Average wind speed', 'datacoverage': 1, 'id': 'AWND'}, {'mindate': '1763-01-01', 'maxdate': '2021-06-01', 'name': 'Cooling Degree Days Season to Date', 'datacoverage': 1, 'id': 'CDSD'}, {'mindate': '1763-01-01', 'maxdate': '2021-06-01', 'name': 'Cooling Degree Days', 'datacoverage': 1, 'id': 'CLDD'}, {'mindate': '2011-03-08', 'maxdate': '2021-07-11', 'name': 'Digital Accumulation Array(One Hour Precipitation total (256 levels) with Dual Pol. algorithm)', 'datacoverage': 0.95, 'id': 'DAA'}, {'mindate': '1832-05-11', 'maxdate': '2021-07-12', 'name': 'Number of days included in the multiday precipitation total (MDPR)', 'datacoverage': 1, 'id': 'DAPR'}, {'mindate': '1877-01-02', 'maxdate': '2020-12-18', 'name': 'Number of days included in the multiday snow fall total (MDSF) ', 'datacoverage': 1, 'id': 'DASF'}, {'mindate': '1863-05-04', 'maxdate': '2021-07-12', 'name': 'Number of days included in the multiday minimum temperature (MDTN)', 'datacoverage': 1, 'id': 'DATN'}, {'mindate': '1863-05-04', 'maxdate': '2021-07-11', 'name': 'Number of days included in the multiday maximum temperature (MDTX)', 'datacoverage': 1, 'id': 'DATX'}, {'mindate': '1994-05-20', 'maxdate': '2021-07-11', 'name': 'Digital Hybrid Scan Reflectivity', 'datacoverage': 0.95, 'id': 'DHR'}, {'mindate': '2011-03-08', 'maxdate': '2021-07-11', 'name': 'One Hour Precipitation Difference = DAA-N1P', 'datacoverage': 0.95, 'id': 'DOD'}, {'mindate': '1781-01-01', 'maxdate': '2021-06-01', 'name': 'Number of days with greater than or equal to 0.1 inch of precipitation', 'datacoverage': 1, 'id': 'DP01'}, {'mindate': '1781-01-01', 'maxdate': '2016-03-01', 'name': 'Number of days with greater than or equal to 0.5 inch of precipitation', 'datacoverage': 1, 'id': 'DP05'}, {'mindate': '1781-01-01', 'maxdate': '2021-06-01', 'name': 'Number of days with greater than or equal to 1.0 inch of precipitation', 'datacoverage': 1, 'id': 'DP10'}, {'mindate': '1994-06-17', 'maxdate': '2021-07-11', 'name': 'Digital Precipitation Array', 'datacoverage': 0.95, 'id': 'DPA'}, {'mindate': '1888-12-01', 'maxdate': '2015-11-01', 'name': 'Departure from normal monthly precipitation.', 'datacoverage': 1, 'id': 'DPNP'}, {'mindate': '1888-06-01', 'maxdate': '2015-11-01', 'name': 'Departure from normal monthly temperature.', 'datacoverage': 1, 'id': 'DPNT'}, {'mindate': '2011-03-08', 'maxdate': '2021-07-11', 'name': 'Instantaneous Precipitation Rate', 'datacoverage': 0.95, 'id': 'DPR'}, {'mindate': '2011-03-08', 'maxdate': '2021-07-11', 'name': 'Storm Total Precipitation Difference = DTA-DSP', 'datacoverage': 0.95, 'id': 'DSD'}, {'mindate': '1860-01-01', 'maxdate': '2021-06-01', 'name': 'Number days with snow depth > 1 inch(25.4mm) for the period.', 'datacoverage': 1, 'id': 'DSND'}, {'mindate': '1840-05-01', 'maxdate': '2021-06-01', 'name': 'Number days with snow depth > 1 inch.', 'datacoverage': 1, 'id': 'DSNW'}, {'mindate': '1994-06-17', 'maxdate': '2021-07-11', 'name': 'Digital Storm Total Precipitation', 'datacoverage': 0.95, 'id': 'DSP'}, {'mindate': '1763-01-01', 'maxdate': '2021-06-01', 'name': 'Number days with minimum temperature less than or equal to 0.0 F', 'datacoverage': 1, 'id': 'DT00'}, {'mindate': '1763-01-01', 'maxdate': '2021-06-01', 'name': 'Number days with minimum temperature less than or equal to 32.0 F', 'datacoverage': 1, 'id': 'DT32'}, {'mindate': '1922-01-01', 'maxdate': '2015-11-01', 'name': 'Number days with maximum temperature > 70 F. (Alaska only.)', 'datacoverage': 1, 'id': 'DT70'}]}\n"
          ],
          "name": "stdout"
        }
      ]
    },
    {
      "cell_type": "code",
      "metadata": {
        "colab": {
          "base_uri": "https://localhost:8080/"
        },
        "id": "q_ajZvcjGFQc",
        "outputId": "08eff754-b53b-4423-fc13-22f68e03002c"
      },
      "source": [
        "# Fetch data types that support a given set of stations\n",
        "params = {\n",
        "    'limit'   : 999\n",
        "}\n",
        "r = requests.get(f'https://www.ncdc.noaa.gov/cdo-web/api/v2/datatypes?stationid={station_id}', params=params, headers={'token':token})\n",
        "#print(json.dumps(r.json(), indent=2))\n",
        "d = json.loads(r.text)\n",
        "results = d[\"results\"]\n",
        "print(len(results))\n",
        "for result in results:\n",
        "  #if \"AVG\" in result[\"id\"]:\n",
        "     print(result[\"id\"], result[\"name\"])\n",
        "print(d)"
      ],
      "execution_count": null,
      "outputs": [
        {
          "output_type": "stream",
          "text": [
            "7\n",
            "DP05 Number of days with greater than or equal to 0.5 inch of precipitation\n",
            "DSNW Number days with snow depth > 1 inch.\n",
            "DYSN Day the extreme maximum daily snowfall for the period occurred.\n",
            "DYXP Day Extreme maximum daily precipitation for the period.\n",
            "EMSN Extreme maximum snowfall for the period.\n",
            "TPCP Total precipitation\n",
            "TSNW Total snow fall\n",
            "{'metadata': {'resultset': {'offset': 1, 'count': 7, 'limit': 999}}, 'results': [{'mindate': '1781-01-01', 'maxdate': '2016-03-01', 'name': 'Number of days with greater than or equal to 0.5 inch of precipitation', 'datacoverage': 1, 'id': 'DP05'}, {'mindate': '1840-05-01', 'maxdate': '2021-06-01', 'name': 'Number days with snow depth > 1 inch.', 'datacoverage': 1, 'id': 'DSNW'}, {'mindate': '1840-05-01', 'maxdate': '2021-06-01', 'name': 'Day the extreme maximum daily snowfall for the period occurred.', 'datacoverage': 1, 'id': 'DYSN'}, {'mindate': '1781-01-01', 'maxdate': '2021-06-01', 'name': 'Day Extreme maximum daily precipitation for the period.', 'datacoverage': 1, 'id': 'DYXP'}, {'mindate': '1840-05-01', 'maxdate': '2021-06-01', 'name': 'Extreme maximum snowfall for the period.', 'datacoverage': 1, 'id': 'EMSN'}, {'mindate': '1781-01-01', 'maxdate': '2016-03-01', 'name': 'Total precipitation', 'datacoverage': 1, 'id': 'TPCP'}, {'mindate': '1840-05-01', 'maxdate': '2016-03-01', 'name': 'Total snow fall', 'datacoverage': 1, 'id': 'TSNW'}]}\n"
          ],
          "name": "stdout"
        }
      ]
    },
    {
      "cell_type": "code",
      "metadata": {
        "colab": {
          "base_uri": "https://localhost:8080/",
          "height": 419
        },
        "id": "E6kpg8ply-ts",
        "outputId": "78417645-0d20-4846-f3b4-99dfa01b7945"
      },
      "source": [
        "df_temp.keys()\n",
        "df_temp\n",
        "\n"
      ],
      "execution_count": 10,
      "outputs": [
        {
          "output_type": "execute_result",
          "data": {
            "text/html": [
              "<div>\n",
              "<style scoped>\n",
              "    .dataframe tbody tr th:only-of-type {\n",
              "        vertical-align: middle;\n",
              "    }\n",
              "\n",
              "    .dataframe tbody tr th {\n",
              "        vertical-align: top;\n",
              "    }\n",
              "\n",
              "    .dataframe thead th {\n",
              "        text-align: right;\n",
              "    }\n",
              "</style>\n",
              "<table border=\"1\" class=\"dataframe\">\n",
              "  <thead>\n",
              "    <tr style=\"text-align: right;\">\n",
              "      <th></th>\n",
              "      <th>date</th>\n",
              "      <th>avgTemp</th>\n",
              "    </tr>\n",
              "  </thead>\n",
              "  <tbody>\n",
              "    <tr>\n",
              "      <th>0</th>\n",
              "      <td>2015-01-01</td>\n",
              "      <td>39.92</td>\n",
              "    </tr>\n",
              "    <tr>\n",
              "      <th>1</th>\n",
              "      <td>2015-01-02</td>\n",
              "      <td>42.98</td>\n",
              "    </tr>\n",
              "    <tr>\n",
              "      <th>2</th>\n",
              "      <td>2015-01-03</td>\n",
              "      <td>62.06</td>\n",
              "    </tr>\n",
              "    <tr>\n",
              "      <th>3</th>\n",
              "      <td>2015-01-04</td>\n",
              "      <td>51.08</td>\n",
              "    </tr>\n",
              "    <tr>\n",
              "      <th>4</th>\n",
              "      <td>2015-01-05</td>\n",
              "      <td>51.98</td>\n",
              "    </tr>\n",
              "    <tr>\n",
              "      <th>...</th>\n",
              "      <td>...</td>\n",
              "      <td>...</td>\n",
              "    </tr>\n",
              "    <tr>\n",
              "      <th>1821</th>\n",
              "      <td>2019-12-27</td>\n",
              "      <td>68.00</td>\n",
              "    </tr>\n",
              "    <tr>\n",
              "      <th>1822</th>\n",
              "      <td>2019-12-28</td>\n",
              "      <td>71.96</td>\n",
              "    </tr>\n",
              "    <tr>\n",
              "      <th>1823</th>\n",
              "      <td>2019-12-29</td>\n",
              "      <td>66.02</td>\n",
              "    </tr>\n",
              "    <tr>\n",
              "      <th>1824</th>\n",
              "      <td>2019-12-30</td>\n",
              "      <td>62.06</td>\n",
              "    </tr>\n",
              "    <tr>\n",
              "      <th>1825</th>\n",
              "      <td>2019-12-31</td>\n",
              "      <td>62.06</td>\n",
              "    </tr>\n",
              "  </tbody>\n",
              "</table>\n",
              "<p>1826 rows × 2 columns</p>\n",
              "</div>"
            ],
            "text/plain": [
              "           date  avgTemp\n",
              "0    2015-01-01    39.92\n",
              "1    2015-01-02    42.98\n",
              "2    2015-01-03    62.06\n",
              "3    2015-01-04    51.08\n",
              "4    2015-01-05    51.98\n",
              "...         ...      ...\n",
              "1821 2019-12-27    68.00\n",
              "1822 2019-12-28    71.96\n",
              "1823 2019-12-29    66.02\n",
              "1824 2019-12-30    62.06\n",
              "1825 2019-12-31    62.06\n",
              "\n",
              "[1826 rows x 2 columns]"
            ]
          },
          "metadata": {
            "tags": []
          },
          "execution_count": 10
        }
      ]
    },
    {
      "cell_type": "code",
      "metadata": {
        "colab": {
          "base_uri": "https://localhost:8080/",
          "height": 419
        },
        "id": "hvbsQGNALcFM",
        "outputId": "585f6cbf-aa4a-4f55-d144-1ecfb2227236"
      },
      "source": [
        "df_wind.keys()\n",
        "df_wind"
      ],
      "execution_count": 11,
      "outputs": [
        {
          "output_type": "execute_result",
          "data": {
            "text/html": [
              "<div>\n",
              "<style scoped>\n",
              "    .dataframe tbody tr th:only-of-type {\n",
              "        vertical-align: middle;\n",
              "    }\n",
              "\n",
              "    .dataframe tbody tr th {\n",
              "        vertical-align: top;\n",
              "    }\n",
              "\n",
              "    .dataframe thead th {\n",
              "        text-align: right;\n",
              "    }\n",
              "</style>\n",
              "<table border=\"1\" class=\"dataframe\">\n",
              "  <thead>\n",
              "    <tr style=\"text-align: right;\">\n",
              "      <th></th>\n",
              "      <th>date</th>\n",
              "      <th>avgWind</th>\n",
              "    </tr>\n",
              "  </thead>\n",
              "  <tbody>\n",
              "    <tr>\n",
              "      <th>0</th>\n",
              "      <td>2015-01-01</td>\n",
              "      <td>22</td>\n",
              "    </tr>\n",
              "    <tr>\n",
              "      <th>1</th>\n",
              "      <td>2015-01-02</td>\n",
              "      <td>20</td>\n",
              "    </tr>\n",
              "    <tr>\n",
              "      <th>2</th>\n",
              "      <td>2015-01-03</td>\n",
              "      <td>13</td>\n",
              "    </tr>\n",
              "    <tr>\n",
              "      <th>3</th>\n",
              "      <td>2015-01-04</td>\n",
              "      <td>32</td>\n",
              "    </tr>\n",
              "    <tr>\n",
              "      <th>4</th>\n",
              "      <td>2015-01-05</td>\n",
              "      <td>16</td>\n",
              "    </tr>\n",
              "    <tr>\n",
              "      <th>...</th>\n",
              "      <td>...</td>\n",
              "      <td>...</td>\n",
              "    </tr>\n",
              "    <tr>\n",
              "      <th>1821</th>\n",
              "      <td>2019-12-27</td>\n",
              "      <td>15</td>\n",
              "    </tr>\n",
              "    <tr>\n",
              "      <th>1822</th>\n",
              "      <td>2019-12-28</td>\n",
              "      <td>22</td>\n",
              "    </tr>\n",
              "    <tr>\n",
              "      <th>1823</th>\n",
              "      <td>2019-12-29</td>\n",
              "      <td>26</td>\n",
              "    </tr>\n",
              "    <tr>\n",
              "      <th>1824</th>\n",
              "      <td>2019-12-30</td>\n",
              "      <td>14</td>\n",
              "    </tr>\n",
              "    <tr>\n",
              "      <th>1825</th>\n",
              "      <td>2019-12-31</td>\n",
              "      <td>11</td>\n",
              "    </tr>\n",
              "  </tbody>\n",
              "</table>\n",
              "<p>1826 rows × 2 columns</p>\n",
              "</div>"
            ],
            "text/plain": [
              "           date  avgWind\n",
              "0    2015-01-01       22\n",
              "1    2015-01-02       20\n",
              "2    2015-01-03       13\n",
              "3    2015-01-04       32\n",
              "4    2015-01-05       16\n",
              "...         ...      ...\n",
              "1821 2019-12-27       15\n",
              "1822 2019-12-28       22\n",
              "1823 2019-12-29       26\n",
              "1824 2019-12-30       14\n",
              "1825 2019-12-31       11\n",
              "\n",
              "[1826 rows x 2 columns]"
            ]
          },
          "metadata": {
            "tags": []
          },
          "execution_count": 11
        }
      ]
    },
    {
      "cell_type": "code",
      "metadata": {
        "id": "N2m8aYMUsvRW"
      },
      "source": [
        ""
      ],
      "execution_count": null,
      "outputs": []
    }
  ]
}